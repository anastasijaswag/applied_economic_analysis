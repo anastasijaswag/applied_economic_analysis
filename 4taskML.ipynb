{
 "cells": [
  {
   "cell_type": "code",
   "execution_count": 8,
   "id": "a65e483b-4d37-403a-b314-27acde998787",
   "metadata": {},
   "outputs": [],
   "source": [
    "import pandas as pd\n",
    "import numpy as np\n",
    "from sklearn.preprocessing import scale\n",
    "from sklearn.model_selection import KFold\n",
    "from sklearn.neighbors import KNeighborsRegressor\n",
    "from sklearn.model_selection import cross_val_score\n",
    "\n",
    "#вместо того что указано в ПДФ, так как load_boston() удален из sklearn\n",
    "data_url = \"http://lib.stat.cmu.edu/datasets/boston\"\n",
    "raw_df = pd.read_csv(data_url, sep=r\"\\s+\", skiprows=22, header=None)\n",
    "data = np.hstack([raw_df.values[::2, :], raw_df.values[1::2, :2]])\n",
    "target = raw_df.values[1::2, 2]"
   ]
  },
  {
   "cell_type": "markdown",
   "id": "750b2985-0f8f-4b87-9160-bbd4969edc16",
   "metadata": {},
   "source": [
    "2. Приведите признаки в выборке к одному масштабу при помощи\n",
    "функции sklearn.preprocessing.scale."
   ]
  },
  {
   "cell_type": "code",
   "execution_count": 11,
   "id": "31c8196b-bcd4-4a98-b7bc-2c6906de8b16",
   "metadata": {},
   "outputs": [],
   "source": [
    "data_scaled = scale(data)"
   ]
  },
  {
   "cell_type": "markdown",
   "id": "db4965a8-3f8b-4eeb-a8c8-cfb61da6fec2",
   "metadata": {},
   "source": [
    "3. Переберите разные варианты параметра метрики p по сетке от 1 до\n",
    "10 с таким шагом, чтобы всего было протестировано 200 вариантов\n",
    "(используйте функцию numpy.linspace).Используйте KNeighborsRegressor\n",
    "сn_neighbors = 5 и weights = ’distance’—данный параметр добавляет\n",
    " в алгоритм веса,зависящие от расстояния до ближайших соседей.В\n",
    "качестве метрики качества используйте среднеквадратичную ошиб-\n",
    "ку (параметр scoring=’mean_squared_error’ у cross_val_score; при\n",
    "использовании библиотеки scikit-learn версии 18.0.1 и выше необхо-\n",
    "димоуказыватьscoring=’neg_mean_squared_error’).Качество оце-\n",
    "нивайте, как и в предыдущем задании, с помощью кросс-валидации\n",
    "по 5 блокам с random_state = 42, не забудьте включить перемеши-\n",
    "вание выборки (shuﬄe=True)."
   ]
  },
  {
   "cell_type": "code",
   "execution_count": 15,
   "id": "02446136-a0af-4b2f-a52e-c8ccdfc7d06f",
   "metadata": {},
   "outputs": [
    {
     "name": "stdout",
     "output_type": "stream",
     "text": [
      "1.0\n",
      "29.7872280754304\n"
     ]
    }
   ],
   "source": [
    "cv = KFold(n_splits=5, shuffle=True, random_state=42)\n",
    "best_mean = -np.inf\n",
    "best_p = 0\n",
    "for p in np.linspace(1, 10, num=200):\n",
    "    model = KNeighborsRegressor(n_neighbors=5, weights = 'distance', p = p)\n",
    "    scores = cross_val_score(model, data, target, cv = cv, scoring='neg_mean_squared_error')\n",
    "    mean = scores.mean()\n",
    "    if mean > best_mean:\n",
    "        best_mean = mean\n",
    "        best_p = p\n",
    "print(best_p)\n",
    "print(-best_mean)"
   ]
  },
  {
   "cell_type": "markdown",
   "id": "4a61aa35-212b-479c-937e-5a7fb09690bd",
   "metadata": {},
   "source": [
    "4. Определите, при каком p качество на кросс-валидации оказалось\n",
    "оптимальным. Обратите внимание, что cross_val_score возвраща-ет массив показателей качества по блокам; необходимо максимизи-\n",
    "ровать среднее этих показателей. Это значение параметра и будет\n",
    "ответом на задачу."
   ]
  },
  {
   "cell_type": "markdown",
   "id": "534676e9-b30b-49f7-b35e-d804cdb83383",
   "metadata": {},
   "source": [
    "Оптимальное качество кросс-валидации при p = 1, а минимальная среднеквадратичная оценка = 29.8"
   ]
  },
  {
   "cell_type": "code",
   "execution_count": null,
   "id": "e10ba758-5e2a-4d61-982a-631421430da0",
   "metadata": {},
   "outputs": [],
   "source": []
  }
 ],
 "metadata": {
  "kernelspec": {
   "display_name": "Python [conda env:base] *",
   "language": "python",
   "name": "conda-base-py"
  },
  "language_info": {
   "codemirror_mode": {
    "name": "ipython",
    "version": 3
   },
   "file_extension": ".py",
   "mimetype": "text/x-python",
   "name": "python",
   "nbconvert_exporter": "python",
   "pygments_lexer": "ipython3",
   "version": "3.12.7"
  }
 },
 "nbformat": 4,
 "nbformat_minor": 5
}
