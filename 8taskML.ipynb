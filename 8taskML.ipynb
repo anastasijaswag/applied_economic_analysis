{
 "cells": [
  {
   "cell_type": "code",
   "execution_count": 3,
   "id": "a052afb8-45cf-47f6-8a97-147b732b34a9",
   "metadata": {},
   "outputs": [],
   "source": [
    "import numpy as np\n",
    "import pandas as pd\n",
    "from sklearn.metrics import roc_auc_score"
   ]
  },
  {
   "cell_type": "markdown",
   "id": "d147055a-1f59-491a-8b68-0818612e0904",
   "metadata": {},
   "source": [
    "1. Загрузите данные из файла data-logistic.csv. Это двумерная выбор-\n",
    "ка, целевая переменная на которой принимает значения -1 или 1."
   ]
  },
  {
   "cell_type": "code",
   "execution_count": 14,
   "id": "77d0ac37-9bc2-4009-a300-6db4b006dda1",
   "metadata": {},
   "outputs": [],
   "source": [
    "data = pd.read_csv('data-logistic.csv', header=None)\n",
    "Y = data.iloc[:, 0]\n",
    "X1 = data.iloc[:, 1]\n",
    "X2 = data.iloc[:, 2]"
   ]
  },
  {
   "cell_type": "markdown",
   "id": "b585bc04-720f-46c0-9890-736047fbc362",
   "metadata": {},
   "source": [
    "2. Убедитесь, что выше выписаны правильные формулы для гради-\n",
    "ентного спуска. Обратите внимание, что мы используем полноцен-\n",
    "ный градиентный спуск, а не его стохастический вариант!"
   ]
  },
  {
   "cell_type": "markdown",
   "id": "4e3b16ce-f387-48ef-b8e5-459141f0219a",
   "metadata": {},
   "source": [
    "3. Реализуйте градиентный спуск для обычной и L2-регуляризованной\n",
    "(с коэффициентом регуляризации 10) логистической регрессии. Ис-\n",
    "пользуйте длину шага k=0.1. В качестве начального приближения\n",
    "используйте вектор (0, 0).\n",
    "4. Запустите градиентный спуск и доведите до сходимости (евклидово\n",
    "расстояние между векторами весов на соседних итерациях долж-\n",
    "но быть не больше 1e-5). Рекомендуется ограничить сверху число\n",
    "итераций десятью тысячами."
   ]
  },
  {
   "cell_type": "code",
   "execution_count": 21,
   "id": "71b74fde-5137-4df2-a82f-399570631d5f",
   "metadata": {},
   "outputs": [
    {
     "name": "stdout",
     "output_type": "stream",
     "text": [
      "AUC: 0.927\n"
     ]
    }
   ],
   "source": [
    "l = len(Y)\n",
    "k = 0.1\n",
    "C = 0\n",
    "max_it = 10000\n",
    "eps = 1e-5\n",
    "w1 = 0.0\n",
    "w2 = 0.0\n",
    "\n",
    "for it in range(max_it):\n",
    "    w1_old, w2_old = w1, w2\n",
    "\n",
    "    z = w1 * X1 + w2 * X2\n",
    "    sig = 1 / (1 + np.exp(- Y * z))\n",
    "    com = Y * (1 - sig)\n",
    "\n",
    "    w1 += k * (1 / l) * np.sum(X1 * com) - k * C * w1\n",
    "    w2 += k * (1 / l) * np.sum(X2 * com) - k * C * w2\n",
    "\n",
    "    if np.sqrt((w1 - w1_old)**2 + (w2 - w2_old)**2) < eps:\n",
    "        break\n",
    "\n",
    "a = 1 / (1 + np.exp(-z))\n",
    "\n",
    "auc1 = roc_auc_score(Y, a)\n",
    "print(\"AUC:\", round(auc1, 3))"
   ]
  },
  {
   "cell_type": "code",
   "execution_count": 22,
   "id": "bb577d4a-011f-4ede-ab1f-7ca7f661390e",
   "metadata": {},
   "outputs": [
    {
     "name": "stdout",
     "output_type": "stream",
     "text": [
      "AUC: 0.936\n"
     ]
    }
   ],
   "source": [
    "# меняем С = 10\n",
    "l = len(Y)\n",
    "k = 0.1\n",
    "C = 10\n",
    "max_it = 10000\n",
    "eps = 1e-5\n",
    "w1 = 0.0\n",
    "w2 = 0.0\n",
    "\n",
    "for it in range(max_it):\n",
    "    w1_old, w2_old = w1, w2\n",
    "\n",
    "    z = w1 * X1 + w2 * X2\n",
    "    sig = 1 / (1 + np.exp(- Y * z))\n",
    "    com = Y * (1 - sig)\n",
    "\n",
    "    w1 += k * (1 / l) * np.sum(X1 * com) - k * C * w1\n",
    "    w2 += k * (1 / l) * np.sum(X2 * com) - k * C * w2\n",
    "\n",
    "    if np.sqrt((w1 - w1_old)**2 + (w2 - w2_old)**2) < eps:\n",
    "        break\n",
    "\n",
    "a = 1 / (1 + np.exp(-z))\n",
    "\n",
    "auc2 = roc_auc_score(Y, a)\n",
    "print(\"AUC:\", round(auc2, 3))"
   ]
  },
  {
   "cell_type": "markdown",
   "id": "a7f6641d-442a-4985-8c0c-a37d36376814",
   "metadata": {},
   "source": [
    "5. Какое значение принимает AUC-ROC на обучении без регуляри-\n",
    "зации и при ее использовании? Эти величины будут ответом на\n",
    "задание. В качестве ответа приведите два числа через пробел. Об-\n",
    "ратите внимание, что на вход функции roc_auc_score нужно пода-\n",
    "вать оценки вероятностей, подсчитанные обученным алгоритмом.\n",
    "Для этого воспользуйтесь сигмоидной функцией: a(x) = 1/(1 +\n",
    "exp(−w1x1−w2x2))."
   ]
  },
  {
   "cell_type": "code",
   "execution_count": 23,
   "id": "21165983-e896-4985-a9f3-813f44b38714",
   "metadata": {},
   "outputs": [
    {
     "name": "stdout",
     "output_type": "stream",
     "text": [
      "0.927 0.936\n"
     ]
    }
   ],
   "source": [
    "print(round(auc1, 3), round(auc2,3))"
   ]
  },
  {
   "cell_type": "markdown",
   "id": "5191a4bd-aef3-4fe8-a949-4dff2ae3085d",
   "metadata": {},
   "source": [
    "6. Попробуйте поменять длину шага. Будет ли сходиться алгоритм,\n",
    "если делать более длинные шаги? Как меняется число итераций\n",
    "при уменьшении длины шага?"
   ]
  },
  {
   "cell_type": "code",
   "execution_count": 57,
   "id": "1a0d4d2e-3a3d-4827-9bf8-f860b31f80fd",
   "metadata": {},
   "outputs": [
    {
     "name": "stdout",
     "output_type": "stream",
     "text": [
      "AUC: 0.927\n",
      "795\n"
     ]
    }
   ],
   "source": [
    "l = len(Y)\n",
    "k = 0.1\n",
    "C = 0\n",
    "max_it = 10000\n",
    "eps = 1e-5\n",
    "w1 = 20.0\n",
    "w2 = 20.0\n",
    "\n",
    "for it in range(max_it):\n",
    "    w1_old, w2_old = w1, w2\n",
    "\n",
    "    z = w1 * X1 + w2 * X2\n",
    "    sig = 1 / (1 + np.exp(- Y * z))\n",
    "    com = Y * (1 - sig)\n",
    "\n",
    "    w1 += k * (1 / l) * np.sum(X1 * com) - k * C * w1\n",
    "    w2 += k * (1 / l) * np.sum(X2 * com) - k * C * w2\n",
    "\n",
    "    if np.sqrt((w1 - w1_old)**2 + (w2 - w2_old)**2) < eps:\n",
    "        break\n",
    "\n",
    "a = 1 / (1 + np.exp(-z))\n",
    "\n",
    "auc1 = roc_auc_score(Y, a)\n",
    "print(\"AUC:\", round(auc1, 3))\n",
    "print(it)"
   ]
  },
  {
   "cell_type": "markdown",
   "id": "1983637a-55cd-40a4-92a4-bbe65c55b1db",
   "metadata": {},
   "source": [
    "При шаге k=0.1 кол-во итераций равно 243. При увеличении шага k=1 кол-во итераций равно 31 (то есть уменьшается), но алгорим все равно сходится, хоть и с большим шагом. Но уже при k = 2 достигается макс число итераций, что свидетельствует о том, что алгоритм \"не сошелся\". "
   ]
  },
  {
   "cell_type": "markdown",
   "id": "4af8ee51-02d3-49d4-9d7d-17114df4411f",
   "metadata": {},
   "source": [
    "Дальше посмотрели, что будет при уменьшении шага: при к = 0.01 увеличилось количество итераций (1478), при к = 0.001 кол-во итераций 5125, но при этом модель обучилась более качественно. "
   ]
  },
  {
   "cell_type": "markdown",
   "id": "3db501e3-d023-4e11-bccc-61fcf26b5f61",
   "metadata": {},
   "source": [
    "И того, можно сделать вывод, что при увеличении шага до адекватного размера будет уменьшаться количество итераций, при этом алгоритм будет сходится и обучение останется качественным, но начиная с определенного k, алгоритм перестает сходится. При уменьшении шага увеличивается количество итераций, и обучение становится более стабильным."
   ]
  },
  {
   "cell_type": "markdown",
   "id": "4e01734d-cac2-4402-9ab9-a95d3eaf3f73",
   "metadata": {},
   "source": [
    "7. Попробуйте менять начальное приближение. Влияет ли оно на что-\n",
    "нибудь?"
   ]
  },
  {
   "cell_type": "markdown",
   "id": "335832b8-09b9-4750-a997-363958adc4ab",
   "metadata": {},
   "source": [
    "В целом при изменении начального приближения просто увеличивается количество итераций.\n",
    "Например при 10,10 -> кол-во итераций 525, при 20,20 -> 795, и так далее."
   ]
  },
  {
   "cell_type": "code",
   "execution_count": null,
   "id": "6165c8f3-54cc-447f-a176-8b4f8f14772e",
   "metadata": {},
   "outputs": [],
   "source": []
  }
 ],
 "metadata": {
  "kernelspec": {
   "display_name": "Python [conda env:base] *",
   "language": "python",
   "name": "conda-base-py"
  },
  "language_info": {
   "codemirror_mode": {
    "name": "ipython",
    "version": 3
   },
   "file_extension": ".py",
   "mimetype": "text/x-python",
   "name": "python",
   "nbconvert_exporter": "python",
   "pygments_lexer": "ipython3",
   "version": "3.12.7"
  }
 },
 "nbformat": 4,
 "nbformat_minor": 5
}
