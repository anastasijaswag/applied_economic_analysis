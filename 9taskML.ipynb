{
 "cells": [
  {
   "cell_type": "code",
   "execution_count": 29,
   "id": "4d6acf50-cf88-4925-a5bd-3450e13da478",
   "metadata": {},
   "outputs": [],
   "source": [
    "import numpy as np\n",
    "import pandas as pd\n",
    "from sklearn.metrics import roc_auc_score\n",
    "from sklearn.metrics import (\n",
    "    accuracy_score,\n",
    "    precision_score,\n",
    "    recall_score,\n",
    "    f1_score,\n",
    "    precision_recall_curve\n",
    ")"
   ]
  },
  {
   "cell_type": "markdown",
   "id": "8c8620b7-095f-4cd4-b55e-22ab89b282f0",
   "metadata": {},
   "source": [
    "1. Загрузите файл classification.csv. В нем записаны истинные классы\n",
    "объектов выборки (колонка true) и ответы некоторого классифика-\n",
    "тора (колонка predicted)."
   ]
  },
  {
   "cell_type": "code",
   "execution_count": 10,
   "id": "677631b2-7ed7-4191-9add-0af5b0cced77",
   "metadata": {},
   "outputs": [
    {
     "name": "stdout",
     "output_type": "stream",
     "text": [
      "     true  pred\n",
      "0       1     0\n",
      "1       1     1\n",
      "2       1     1\n",
      "3       0     0\n",
      "4       1     1\n",
      "..    ...   ...\n",
      "195     0     0\n",
      "196     0     0\n",
      "197     1     0\n",
      "198     0     1\n",
      "199     0     0\n",
      "\n",
      "[200 rows x 2 columns]\n"
     ]
    }
   ],
   "source": [
    "data = pd.read_csv('classification.csv')\n",
    "print(data)\n",
    "true_class = data['true']\n",
    "pred_class = data['pred']"
   ]
  },
  {
   "cell_type": "markdown",
   "id": "5a402d4e-2ed8-4705-8d4b-ee0365080d01",
   "metadata": {},
   "source": [
    "2. Заполните таблицу ошибок классификации: Для этого подсчитайте величины TP, FP, FN и TN согласно их\n",
    "определениям. Например, FP — это количество объектов, имеющих\n",
    "класс 0, но отнесенных алгоритмом к классу 1. Ответ в данном\n",
    "вопросе — четыре числа через пробел."
   ]
  },
  {
   "cell_type": "code",
   "execution_count": 15,
   "id": "b0cd1c1f-ef52-4299-a6fa-3b4f45f89a60",
   "metadata": {},
   "outputs": [
    {
     "name": "stdout",
     "output_type": "stream",
     "text": [
      "TP = 43, FP = 34, FN = 59, TN = 64\n"
     ]
    }
   ],
   "source": [
    "TP, FP, FN, TN = 0, 0 , 0, 0\n",
    "for i in range(len(data)):\n",
    "    if (true_class.iloc[i] == 1) and (pred_class.iloc[i] == 1):\n",
    "        TP += 1\n",
    "    elif (true_class.iloc[i] == 0) and (pred_class.iloc[i] == 1):\n",
    "        FP += 1\n",
    "    elif (true_class.iloc[i] == 1) and (pred_class.iloc[i] == 0):\n",
    "        FN += 1\n",
    "    else:\n",
    "        TN += 1\n",
    "print(f'TP = {TP}, FP = {FP}, FN = {FN}, TN = {TN}')"
   ]
  },
  {
   "cell_type": "markdown",
   "id": "783c19ad-492a-4cae-96dc-168cea1b2a96",
   "metadata": {},
   "source": [
    "3. Посчитайте основные метрики качества классификатора:\n",
    "\n",
    "• Accuracy (доля верно угаданных) — sklearn.metrics.accuracy\n",
    "\n",
    "• Precision (точность) — sklearn.metrics.accuracy.precision_score\n",
    "\n",
    "• Recall (полнота) — sklearn.metrics.recall_score\n",
    "\n",
    "• F-мера — sklearn.metrics.f1_score"
   ]
  },
  {
   "cell_type": "code",
   "execution_count": 21,
   "id": "f420a067-df46-4a7c-ab1b-edc7572df488",
   "metadata": {},
   "outputs": [
    {
     "name": "stdout",
     "output_type": "stream",
     "text": [
      "0.535 0.558 0.422 0.48\n"
     ]
    }
   ],
   "source": [
    "accuracy = accuracy_score(true_class, pred_class)\n",
    "precision = precision_score(true_class, pred_class)\n",
    "recall = recall_score(true_class, pred_class)\n",
    "f1 = f1_score(true_class, pred_class)\n",
    "print(round(accuracy,3), round(precision, 3), round(recall, 3), round(f1, 3))"
   ]
  },
  {
   "cell_type": "markdown",
   "id": "70674f2d-5d32-45b9-93b5-727cd5fe3728",
   "metadata": {},
   "source": [
    "4. Имеется четыре обученных классификатора. В файле scores.csv за-\n",
    "писаны истинные классы и значения степени принадлежности по-\n",
    "ложительному классу для каждого классификатора на некоторой\n",
    "выборке:\n",
    "\n",
    "• для логистической регрессии — вероятность положительного\n",
    "класса (колонка score_logreg),\n",
    "\n",
    "• для SVM — отступ от разделяющей поверхности (колонкаscore_svm),\n",
    "\n",
    "• для метрического алгоритма — взвешенная сумма классов со-\n",
    "седей (колонка score_knn),\n",
    "\n",
    "• для решающего дерева — доля положительных объектов в ли-\n",
    "сте (колонка score_tree).\n",
    "\n",
    "Загрузите этот файл."
   ]
  },
  {
   "cell_type": "code",
   "execution_count": 23,
   "id": "0c4e2c49-b40c-4994-b77d-5d1098ffeb1c",
   "metadata": {},
   "outputs": [
    {
     "name": "stdout",
     "output_type": "stream",
     "text": [
      "     true  score_logreg  score_svm  score_knn  score_tree\n",
      "0       0      0.683832   0.145976   0.787063    0.500000\n",
      "1       1      0.801966   0.239511   1.000000    0.833333\n",
      "2       0      0.382315  -0.245701   0.000000    0.000000\n",
      "3       1      0.506797  -0.137058   0.000000    0.105263\n",
      "4       1      0.488781  -0.154148   0.000000    0.105263\n",
      "..    ...           ...        ...        ...         ...\n",
      "195     0      0.573801  -0.088203   0.284192    0.400000\n",
      "196     0      0.624422  -0.012315   0.205437    0.400000\n",
      "197     1      0.425538  -0.135673   0.382351    0.700000\n",
      "198     0      0.905270   0.583806   1.000000    1.000000\n",
      "199     0      0.275594  -0.422160   0.743567    0.642857\n",
      "\n",
      "[200 rows x 5 columns]\n"
     ]
    }
   ],
   "source": [
    "df = pd.read_csv('scores.csv')\n",
    "print(df)\n",
    "score_logreg = df['score_logreg']\n",
    "score_svm = df['score_svm']\n",
    "score_knn = df['score_knn']\n",
    "score_tree = df['score_tree']\n",
    "true = df['true']"
   ]
  },
  {
   "cell_type": "markdown",
   "id": "f323817f-d0aa-4512-ad8e-3451517193f6",
   "metadata": {},
   "source": [
    "5. Посчитайте площадь под ROC-кривой для каждого классифика-\n",
    "тора. Какой классификатор имеет наибольшее значение метрики\n",
    "AUC-ROC (укажите название столбца с ответами этого классифи-\n",
    "катора)? Воспользуйтесь функцией sklearn.metrics.roc_auc_score."
   ]
  },
  {
   "cell_type": "code",
   "execution_count": 27,
   "id": "2debb864-ba1c-4df6-8bce-833046f5a403",
   "metadata": {},
   "outputs": [
    {
     "name": "stdout",
     "output_type": "stream",
     "text": [
      "0.719187675070028 0.7086834733893557 0.6351540616246498 0.6919267707082833\n",
      "\n",
      "Наибольшее AUC-ROC имеет классификатор для логистической регрессии\n",
      "0      0.683832\n",
      "1      0.801966\n",
      "2      0.382315\n",
      "3      0.506797\n",
      "4      0.488781\n",
      "         ...   \n",
      "195    0.573801\n",
      "196    0.624422\n",
      "197    0.425538\n",
      "198    0.905270\n",
      "199    0.275594\n",
      "Name: score_logreg, Length: 200, dtype: float64\n"
     ]
    }
   ],
   "source": [
    "auc_logreg = roc_auc_score(true, score_logreg)\n",
    "auc_svm = roc_auc_score(true, score_svm)\n",
    "auc_knn = roc_auc_score(true, score_knn)\n",
    "auc_tree = roc_auc_score(true, score_tree)\n",
    "auc_scores = print(auc_logreg, auc_svm, auc_knn, auc_tree)\n",
    "print()\n",
    "print('Наибольшее AUC-ROC имеет классификатор для логистической регрессии')\n",
    "print(score_logreg)"
   ]
  },
  {
   "cell_type": "markdown",
   "id": "43fcc80c-ff73-4a91-90bc-f957ad42da27",
   "metadata": {},
   "source": [
    "6. Какой классификатор достигает наибольшей точности (Precision)\n",
    "при полноте (Recall) не менее 70% (укажите название столбца с от-\n",
    "ветами этого классификатора)? Какое значение точности при этом\n",
    "получается?"
   ]
  },
  {
   "cell_type": "code",
   "execution_count": 41,
   "id": "b19c2272-f9da-4a36-a312-447227feaabc",
   "metadata": {},
   "outputs": [
    {
     "name": "stdout",
     "output_type": "stream",
     "text": [
      "0.65\n",
      "score_tree\n",
      "0      0.500000\n",
      "1      0.833333\n",
      "2      0.000000\n",
      "3      0.105263\n",
      "4      0.105263\n",
      "         ...   \n",
      "195    0.400000\n",
      "196    0.400000\n",
      "197    0.700000\n",
      "198    1.000000\n",
      "199    0.642857\n",
      "Name: score_tree, Length: 200, dtype: float64\n"
     ]
    }
   ],
   "source": [
    "best_preс = 0\n",
    "best_model = ''\n",
    "models = ['score_logreg', 'score_svm', 'score_knn', 'score_tree']\n",
    "\n",
    "for model in models:\n",
    "    precision, recall, thresholds = precision_recall_curve(true, df[model])\n",
    "    for p,r in zip(precision,recall):\n",
    "        if r > 0.7 and p > best_prec:\n",
    "            best_prec = p\n",
    "            best_model = model\n",
    "print(round(best_prec,2))\n",
    "print(best_model)\n",
    "print(df[best_model])"
   ]
  }
 ],
 "metadata": {
  "kernelspec": {
   "display_name": "Python [conda env:base] *",
   "language": "python",
   "name": "conda-base-py"
  },
  "language_info": {
   "codemirror_mode": {
    "name": "ipython",
    "version": 3
   },
   "file_extension": ".py",
   "mimetype": "text/x-python",
   "name": "python",
   "nbconvert_exporter": "python",
   "pygments_lexer": "ipython3",
   "version": "3.12.7"
  }
 },
 "nbformat": 4,
 "nbformat_minor": 5
}
