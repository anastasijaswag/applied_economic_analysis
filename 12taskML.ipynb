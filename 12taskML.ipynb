{
 "cells": [
  {
   "cell_type": "code",
   "execution_count": 23,
   "id": "6dd3ba46-567b-422a-939a-bc539b088fab",
   "metadata": {},
   "outputs": [],
   "source": [
    "import numpy as np\n",
    "import pandas as pd\n",
    "from sklearn.ensemble import RandomForestClassifier\n",
    "from sklearn.ensemble import RandomForestRegressor\n",
    "from sklearn.model_selection import KFold\n",
    "from sklearn.metrics import r2_score"
   ]
  },
  {
   "cell_type": "markdown",
   "id": "d8a7ea1e-6b9b-4c62-87cc-b7aca4c4ae20",
   "metadata": {},
   "source": [
    "1. Загрузите  данные из файла abalone.csv. Это датасет,в котором тре-буется предсказать возраст ракушки (число колец) по физическим\n",
    "измерениям."
   ]
  },
  {
   "cell_type": "code",
   "execution_count": 8,
   "id": "cc594618-6a2f-46fc-b51d-ffebef34d5dd",
   "metadata": {},
   "outputs": [
    {
     "name": "stdout",
     "output_type": "stream",
     "text": [
      "     Sex  Length  Diameter  Height  WholeWeight  ShuckedWeight  VisceraWeight  \\\n",
      "0      M   0.455     0.365   0.095       0.5140         0.2245         0.1010   \n",
      "1      M   0.350     0.265   0.090       0.2255         0.0995         0.0485   \n",
      "2      F   0.530     0.420   0.135       0.6770         0.2565         0.1415   \n",
      "3      M   0.440     0.365   0.125       0.5160         0.2155         0.1140   \n",
      "4      I   0.330     0.255   0.080       0.2050         0.0895         0.0395   \n",
      "...   ..     ...       ...     ...          ...            ...            ...   \n",
      "4172   F   0.565     0.450   0.165       0.8870         0.3700         0.2390   \n",
      "4173   M   0.590     0.440   0.135       0.9660         0.4390         0.2145   \n",
      "4174   M   0.600     0.475   0.205       1.1760         0.5255         0.2875   \n",
      "4175   F   0.625     0.485   0.150       1.0945         0.5310         0.2610   \n",
      "4176   M   0.710     0.555   0.195       1.9485         0.9455         0.3765   \n",
      "\n",
      "      ShellWeight  Rings  \n",
      "0          0.1500     15  \n",
      "1          0.0700      7  \n",
      "2          0.2100      9  \n",
      "3          0.1550     10  \n",
      "4          0.0550      7  \n",
      "...           ...    ...  \n",
      "4172       0.2490     11  \n",
      "4173       0.2605     10  \n",
      "4174       0.3080      9  \n",
      "4175       0.2960     10  \n",
      "4176       0.4950     12  \n",
      "\n",
      "[4177 rows x 9 columns]\n"
     ]
    }
   ],
   "source": [
    "data = pd.read_csv('abalone.csv')\n",
    "print(data)"
   ]
  },
  {
   "cell_type": "markdown",
   "id": "e19b5d2f-decb-4ea0-bd6a-9ae997e5de26",
   "metadata": {},
   "source": [
    "2. Преобразуйте признак Sex в числовой: значение F должно перейти\n",
    "в -1, I — в 0, M — в 1. Если вы используете Pandas, то подойдет следующий код: data[’Sex’] = data[’Sex’].map(lambda x: 1 if x ==\n",
    "’M’ else (-1 if x == ’F’ else 0))"
   ]
  },
  {
   "cell_type": "code",
   "execution_count": 9,
   "id": "98ac5983-88c0-4078-b148-01552d59e7df",
   "metadata": {},
   "outputs": [
    {
     "name": "stdout",
     "output_type": "stream",
     "text": [
      "0       1\n",
      "1       1\n",
      "2      -1\n",
      "3       1\n",
      "4       0\n",
      "       ..\n",
      "4172   -1\n",
      "4173    1\n",
      "4174    1\n",
      "4175   -1\n",
      "4176    1\n",
      "Name: Sex, Length: 4177, dtype: int64\n"
     ]
    }
   ],
   "source": [
    "data['Sex'] = data['Sex'].map(\n",
    "    lambda x: 1 if x == 'M' else (-1 if x == 'F' else 0)\n",
    ")\n",
    "print(data['Sex'])"
   ]
  },
  {
   "cell_type": "markdown",
   "id": "14f43e2e-272f-4a25-8c10-ef3c402f1143",
   "metadata": {},
   "source": [
    "3. Разделите содержимое файлов на признаки и целевую переменную.\n",
    "В последнем столбце записана целевая переменная, в остальных —\n",
    "признаки."
   ]
  },
  {
   "cell_type": "code",
   "execution_count": 20,
   "id": "4ea23cc4-bea6-4b2d-8e0a-2f203a48245d",
   "metadata": {},
   "outputs": [],
   "source": [
    "X = data.drop(columns='Rings')\n",
    "y = data['Rings']"
   ]
  },
  {
   "cell_type": "markdown",
   "id": "7c24bcb1-7e2d-489c-b961-c51140c4ad1d",
   "metadata": {},
   "source": [
    "4. Обучите случайный лес (sklearn.ensemble.RandomForestRegressor)\n",
    "с различным числом деревьев: от 1 до 50 (random_state=1). Для\n",
    "каждого из вариантов оцените качество работы полученного леса\n",
    "на кросс-валидации по 5 блокам. Используйте параметры\n",
    "\"random_state=1\"и \"shuﬄe=True\"при создании генератора кросс-\n",
    "валидацииsklearn.cross_validation.KFold.В качестве меры качества\n",
    "воспользуйтесь коэффициентом детерминации(sklearn.metrics.r2_score)."
   ]
  },
  {
   "cell_type": "code",
   "execution_count": 27,
   "id": "97d99bea-59f2-45e7-b9f4-2ed6b9ade28f",
   "metadata": {},
   "outputs": [
    {
     "name": "stdout",
     "output_type": "stream",
     "text": [
      "50\n",
      "0.5309509147417047\n"
     ]
    }
   ],
   "source": [
    "cv = KFold(n_splits=5, shuffle=True, random_state=1)\n",
    "best_score = -10\n",
    "best_i = 0\n",
    "for i in range(1, 51):\n",
    "    scores = []\n",
    "    for train_i, test_i in cv.split(X):\n",
    "        X_train, X_test = X.iloc[train_i], X.iloc[test_i]\n",
    "        y_train, y_test = y.iloc[train_i], y.iloc[test_i]\n",
    "        \n",
    "        clf = RandomForestRegressor(n_estimators=i, random_state = 1)\n",
    "        clf.fit(X_train, y_train)\n",
    "        pred = clf.predict(X_test)\n",
    "        score = r2_score(y_test, pred)\n",
    "        scores.append(score)\n",
    "\n",
    "    mean_score = np.mean(scores)\n",
    "    \n",
    "    if mean_score > best_score:\n",
    "        best_score = mean_score\n",
    "        best_i = i\n",
    "print(best_i)\n",
    "print(best_score)"
   ]
  },
  {
   "cell_type": "markdown",
   "id": "64e2cef4-b26f-4eef-83ee-b9e8a5d93379",
   "metadata": {},
   "source": [
    "5. Определите, при каком минимальном количестве деревьев случай-\n",
    "ный лес показывает качество на кросс-валидации выше 0.52. Это\n",
    "количество и будет ответом на задание."
   ]
  },
  {
   "cell_type": "code",
   "execution_count": 28,
   "id": "0f5d30b5-68c9-4096-879c-d718a6838a43",
   "metadata": {},
   "outputs": [
    {
     "name": "stdout",
     "output_type": "stream",
     "text": [
      "21\n",
      "0.520529096463528\n"
     ]
    }
   ],
   "source": [
    "cv = KFold(n_splits=5, shuffle=True, random_state=1)\n",
    "best_score = -10\n",
    "best_i = 0\n",
    "for i in range(1, 51):\n",
    "    scores = []\n",
    "    for train_i, test_i in cv.split(X):\n",
    "        X_train, X_test = X.iloc[train_i], X.iloc[test_i]\n",
    "        y_train, y_test = y.iloc[train_i], y.iloc[test_i]\n",
    "        \n",
    "        clf = RandomForestRegressor(n_estimators=i, random_state = 1)\n",
    "        clf.fit(X_train, y_train)\n",
    "        pred = clf.predict(X_test)\n",
    "        score = r2_score(y_test, pred)\n",
    "        scores.append(score)\n",
    "\n",
    "    mean_score = np.mean(scores)\n",
    "    \n",
    "    if mean_score > 0.52:\n",
    "        best_score = mean_score\n",
    "        best_i = i\n",
    "        break\n",
    "print(best_i)\n",
    "print(best_score)"
   ]
  },
  {
   "cell_type": "markdown",
   "id": "7f2e918c-0328-4ef3-9798-231861bf2a90",
   "metadata": {},
   "source": [
    "6. Обратите внимание на изменение качества по мере роста числа де-\n",
    "ревьев. Ухудшается ли оно?"
   ]
  },
  {
   "cell_type": "code",
   "execution_count": 29,
   "id": "3b8a9c0f-c766-40ba-a2c0-e5fdf3211bdd",
   "metadata": {},
   "outputs": [
    {
     "name": "stdout",
     "output_type": "stream",
     "text": [
      "Кол-во деревьев 1 -> качество = 0.10967482068860261\n",
      "Кол-во деревьев 2 -> качество = 0.3413000096365689\n",
      "Кол-во деревьев 3 -> качество = 0.406433829066129\n",
      "Кол-во деревьев 4 -> качество = 0.4447745857536912\n",
      "Кол-во деревьев 5 -> качество = 0.46503241426823594\n",
      "Кол-во деревьев 6 -> качество = 0.47139595825898917\n",
      "Кол-во деревьев 7 -> качество = 0.4766658451893487\n",
      "Кол-во деревьев 8 -> качество = 0.4829348394224631\n",
      "Кол-во деревьев 9 -> качество = 0.4894370162945041\n",
      "Кол-во деревьев 10 -> качество = 0.4954085552428177\n",
      "Кол-во деревьев 11 -> качество = 0.4944111155773555\n",
      "Кол-во деревьев 12 -> качество = 0.49902817866563326\n",
      "Кол-во деревьев 13 -> качество = 0.5030578549564464\n",
      "Кол-во деревьев 14 -> качество = 0.5073168234618861\n",
      "Кол-во деревьев 15 -> качество = 0.5091809969556578\n",
      "Кол-во деревьев 16 -> качество = 0.5114105314179662\n",
      "Кол-во деревьев 17 -> качество = 0.5148917747729636\n",
      "Кол-во деревьев 18 -> качество = 0.5172203573170132\n",
      "Кол-во деревьев 19 -> качество = 0.5198293095329432\n",
      "Кол-во деревьев 20 -> качество = 0.51948435033775\n",
      "Кол-во деревьев 21 -> качество = 0.520529096463528\n",
      "Кол-во деревьев 22 -> качество = 0.5208044230080824\n",
      "Кол-во деревьев 23 -> качество = 0.521742855685855\n",
      "Кол-во деревьев 24 -> качество = 0.5231059969795335\n",
      "Кол-во деревьев 25 -> качество = 0.5232486470488318\n",
      "Кол-во деревьев 26 -> качество = 0.5243076139284634\n",
      "Кол-во деревьев 27 -> качество = 0.5246393588459404\n",
      "Кол-во деревьев 28 -> качество = 0.5256557724971402\n",
      "Кол-во деревьев 29 -> качество = 0.5265556293057552\n",
      "Кол-во деревьев 30 -> качество = 0.5270858715838138\n",
      "Кол-во деревьев 31 -> качество = 0.5276420438225101\n",
      "Кол-во деревьев 32 -> качество = 0.5289244806388986\n",
      "Кол-во деревьев 33 -> качество = 0.5301073722643779\n",
      "Кол-во деревьев 34 -> качество = 0.5299613734264366\n",
      "Кол-во деревьев 35 -> качество = 0.5298209779129148\n",
      "Кол-во деревьев 36 -> качество = 0.529910050667947\n",
      "Кол-во деревьев 37 -> качество = 0.5294320415136227\n",
      "Кол-во деревьев 38 -> качество = 0.5294715388671245\n",
      "Кол-во деревьев 39 -> качество = 0.529515898349607\n",
      "Кол-во деревьев 40 -> качество = 0.5294703580378128\n",
      "Кол-во деревьев 41 -> качество = 0.5298087685207094\n",
      "Кол-во деревьев 42 -> качество = 0.5300433306143383\n",
      "Кол-во деревьев 43 -> качество = 0.5299135764090978\n",
      "Кол-во деревьев 44 -> качество = 0.5296814957917958\n",
      "Кол-во деревьев 45 -> качество = 0.528908112349864\n",
      "Кол-во деревьев 46 -> качество = 0.5290083070325597\n",
      "Кол-во деревьев 47 -> качество = 0.5291786571646144\n",
      "Кол-во деревьев 48 -> качество = 0.5300509396315634\n",
      "Кол-во деревьев 49 -> качество = 0.530813058616495\n",
      "Кол-во деревьев 50 -> качество = 0.5309509147417047\n"
     ]
    }
   ],
   "source": [
    "cv = KFold(n_splits=5, shuffle=True, random_state=1)\n",
    "best_score = -10\n",
    "best_i = 0\n",
    "for i in range(1, 51):\n",
    "    scores = []\n",
    "    for train_i, test_i in cv.split(X):\n",
    "        X_train, X_test = X.iloc[train_i], X.iloc[test_i]\n",
    "        y_train, y_test = y.iloc[train_i], y.iloc[test_i]\n",
    "        \n",
    "        clf = RandomForestRegressor(n_estimators=i, random_state = 1)\n",
    "        clf.fit(X_train, y_train)\n",
    "        pred = clf.predict(X_test)\n",
    "        score = r2_score(y_test, pred)\n",
    "        scores.append(score)\n",
    "\n",
    "    mean_score = np.mean(scores)\n",
    "    print(f'Кол-во деревьев {i} -> качество = {mean_score}')\n",
    "    "
   ]
  },
  {
   "cell_type": "markdown",
   "id": "2a3615ad-7742-49ef-9d2a-e8e9f89f13ab",
   "metadata": {},
   "source": [
    "Мы видим, что прииерно до 25 дерева заметен активный рост в качестве, дальше с увеличением числа деревьев качество предсказаний приемущественно растет, но незначительно, однако в некоторых случаях качество \"fluctuate\" - то немного растет, то падает, но в итоге к 48-50 дереву качесво уверенно выходит на 0.53."
   ]
  },
  {
   "cell_type": "code",
   "execution_count": null,
   "id": "8b3c8ef4-2b26-4ff5-b659-aa02e0ed1d68",
   "metadata": {},
   "outputs": [],
   "source": []
  }
 ],
 "metadata": {
  "kernelspec": {
   "display_name": "Python [conda env:base] *",
   "language": "python",
   "name": "conda-base-py"
  },
  "language_info": {
   "codemirror_mode": {
    "name": "ipython",
    "version": 3
   },
   "file_extension": ".py",
   "mimetype": "text/x-python",
   "name": "python",
   "nbconvert_exporter": "python",
   "pygments_lexer": "ipython3",
   "version": "3.12.7"
  }
 },
 "nbformat": 4,
 "nbformat_minor": 5
}
