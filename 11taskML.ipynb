{
 "cells": [
  {
   "cell_type": "code",
   "execution_count": 1,
   "id": "a57ff546-af3d-498e-a0c8-b9026b08a473",
   "metadata": {},
   "outputs": [],
   "source": [
    "import numpy as np\n",
    "import pandas as pd\n",
    "from sklearn.decomposition import PCA"
   ]
  },
  {
   "cell_type": "markdown",
   "id": "d0d511a1-6f29-46b5-81e9-2983567cb495",
   "metadata": {},
   "source": [
    "1. Загрузите данные close_prices.csv. В этом файле приведены цены\n",
    "акций 30 компаний на закрытии торгов за каждый день периода."
   ]
  },
  {
   "cell_type": "code",
   "execution_count": 3,
   "id": "b1c84deb-592f-4d6c-bfdb-0254a27757e8",
   "metadata": {},
   "outputs": [
    {
     "name": "stdout",
     "output_type": "stream",
     "text": [
      "         date        AXP          BA        CAT       CSCO         CVX  \\\n",
      "0  2013-09-23  76.440002  117.510002  85.029999  24.270000  125.519997   \n",
      "1  2013-09-24  76.070000  119.000000  85.110001  24.139999  124.489998   \n",
      "2  2013-09-25  75.989998  118.510002  84.500000  24.430000  124.070000   \n",
      "3  2013-09-26  76.320000  119.379997  84.199997  23.770000  123.489998   \n",
      "4  2013-09-27  75.889999  118.739998  83.800003  23.330000  122.639999   \n",
      "\n",
      "          DD        DIS         GE          GS  ...        PFE         PG  \\\n",
      "0  59.409999  64.750000  24.280001  165.250000  ...  28.799999  79.279999   \n",
      "1  59.319997  64.320000  24.320000  162.970001  ...  28.709999  78.620003   \n",
      "2  59.319997  64.449997  24.230000  162.309998  ...  28.490000  77.720001   \n",
      "3  59.509996  65.239998  24.250000  162.289993  ...  28.520000  78.050003   \n",
      "4  59.009995  65.190002  24.049999  159.850006  ...  28.879999  77.209999   \n",
      "\n",
      "           T        TRV        UNH         UTX           V         VZ  \\\n",
      "0  34.220001  86.379997  71.820000  109.419998  196.240005  47.980000   \n",
      "1  34.090000  85.870003  72.320000  110.000000  193.339996  47.270000   \n",
      "2  34.049999  85.980003  71.980003  109.260002  191.559998  46.950001   \n",
      "3  34.230000  85.830002  72.160004  109.660004  193.559998  47.669998   \n",
      "4  33.980000  85.410004  71.989998  109.360001  193.050003  47.000000   \n",
      "\n",
      "         WMT        XOM  \n",
      "0  76.419998  87.750000  \n",
      "1  75.750000  87.360001  \n",
      "2  74.650002  87.139999  \n",
      "3  74.620003  87.070000  \n",
      "4  74.360001  86.900002  \n",
      "\n",
      "[5 rows x 31 columns]\n"
     ]
    }
   ],
   "source": [
    "prices = pd.read_csv('close_prices.csv')\n",
    "print(prices.head())"
   ]
  },
  {
   "cell_type": "markdown",
   "id": "182f5b79-248e-4946-89cd-5b06463d4945",
   "metadata": {},
   "source": [
    "2. На загруженных данных обучите преобразование PCA с числом\n",
    "компоненты равным 10. Скольких компонент хватит, чтобы объяс-\n",
    "нить 90% дисперсии?"
   ]
  },
  {
   "cell_type": "code",
   "execution_count": 21,
   "id": "582e921d-8ab5-4d77-a03d-4823010832ba",
   "metadata": {},
   "outputs": [
    {
     "name": "stdout",
     "output_type": "stream",
     "text": [
      "[0.73897118 0.11007169 0.04995088 0.0287492  0.02215448 0.01931577\n",
      " 0.00674853 0.00614091 0.00320594 0.00305611]\n",
      "Для достижения дисперсии 90%, а точнее 93%, необходимо 4 компонент(ы)\n"
     ]
    }
   ],
   "source": [
    "X = prices.drop(columns = 'date')\n",
    "pca = PCA(n_components=10)\n",
    "pca.fit(X)\n",
    "print(best10 := pca.explained_variance_ratio_)\n",
    "\n",
    "count = 0\n",
    "sum = 0\n",
    "\n",
    "while sum < 0.9:\n",
    "    sum += best10[count]\n",
    "    count += 1\n",
    "    \n",
    "print(f'Для достижения дисперсии 90%, а точнее {int(sum * 100 + 1)}%, необходимо {count} компонент(ы)')"
   ]
  },
  {
   "cell_type": "markdown",
   "id": "59879990-4ec3-43fe-a31d-1e0b4cda4722",
   "metadata": {},
   "source": [
    "3. Примените построенное преобразование к исходным данным и возь-\n",
    "мите значения первой компоненты."
   ]
  },
  {
   "cell_type": "code",
   "execution_count": 25,
   "id": "317e5bf4-370e-4ab8-91ce-e089375d54fb",
   "metadata": {},
   "outputs": [],
   "source": [
    "X_reduced = pca.transform(X) \n",
    "first_component = X_reduced[:, 0]"
   ]
  },
  {
   "cell_type": "markdown",
   "id": "abee0be9-b183-4e82-a4fe-310c9379af51",
   "metadata": {},
   "source": [
    "4. Загрузите информацию об индексе Доу-Джонса из файла djia_prices.csv.\n",
    "Чему равна корреляция Пирсона между первой компонентой и ин-\n",
    "дексом Доу-Джонса?"
   ]
  },
  {
   "cell_type": "code",
   "execution_count": 33,
   "id": "82f73738-cc13-4cfd-90ab-bc6a46b5c481",
   "metadata": {},
   "outputs": [
    {
     "name": "stdout",
     "output_type": "stream",
     "text": [
      "0.91\n"
     ]
    }
   ],
   "source": [
    "index = pd.read_csv('djia_index.csv')\n",
    "correl = np.corrcoef(first_component, index['^DJI'])[1][0]\n",
    "print(round(correl, 2))"
   ]
  },
  {
   "cell_type": "markdown",
   "id": "176730c0-3513-4a4c-acb9-59c9ae8e79d0",
   "metadata": {},
   "source": [
    "5. Какая компания имеет наибольший вес в первой компоненте?"
   ]
  },
  {
   "cell_type": "code",
   "execution_count": 49,
   "id": "c5f9b41a-474e-447e-8990-53cb19cfac0e",
   "metadata": {},
   "outputs": [
    {
     "name": "stdout",
     "output_type": "stream",
     "text": [
      "Компания с наибольшим весом - V, вес = 0.58\n"
     ]
    }
   ],
   "source": [
    "comp = pca.components_[0]\n",
    "best_weight = 0\n",
    "best_company = ''\n",
    "names = X.columns\n",
    "\n",
    "for i in range(len(comp)):\n",
    "    if comp[i] > best_weight:\n",
    "        best_company = names[i]\n",
    "        best_weight = comp[i]\n",
    "print(f'Компания с наибольшим весом - {best_company}, вес = {round(best_weight, 2)}')"
   ]
  }
 ],
 "metadata": {
  "kernelspec": {
   "display_name": "Python [conda env:base] *",
   "language": "python",
   "name": "conda-base-py"
  },
  "language_info": {
   "codemirror_mode": {
    "name": "ipython",
    "version": 3
   },
   "file_extension": ".py",
   "mimetype": "text/x-python",
   "name": "python",
   "nbconvert_exporter": "python",
   "pygments_lexer": "ipython3",
   "version": "3.12.7"
  }
 },
 "nbformat": 4,
 "nbformat_minor": 5
}
