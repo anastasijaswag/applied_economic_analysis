{
 "cells": [
  {
   "cell_type": "code",
   "execution_count": 4,
   "id": "154e00ff-1159-4426-9c8d-a029c623d27b",
   "metadata": {},
   "outputs": [],
   "source": [
    "import pandas\n",
    "data = pandas.read_csv('titanic.csv', index_col='PassengerId')"
   ]
  },
  {
   "cell_type": "markdown",
   "id": "b54688ec-f22b-41ca-846a-3b79aa733585",
   "metadata": {},
   "source": [
    "1. Какое количество мужчин и женщин ехало на корабле? В качестве\n",
    "ответа приведите два числа через пробел."
   ]
  },
  {
   "cell_type": "code",
   "execution_count": 5,
   "id": "24482e2e-8d8c-4e09-a995-f574ab502de1",
   "metadata": {},
   "outputs": [
    {
     "name": "stdout",
     "output_type": "stream",
     "text": [
      "577 314\n"
     ]
    }
   ],
   "source": [
    "counts = data['Sex'].value_counts()\n",
    "print(counts['male'], counts['female'])"
   ]
  },
  {
   "cell_type": "markdown",
   "id": "2a6c3f86-5328-4004-994d-7f449ea285f8",
   "metadata": {},
   "source": [
    "2. Какой части пассажиров удалось выжить? Посчитайте долю вы-\n",
    "живших пассажиров. Ответ приведите в процентах (число в ин-\n",
    "тервале от 0 до 100, знак процента не нужен), округлив до двух\n",
    "знаков."
   ]
  },
  {
   "cell_type": "code",
   "execution_count": 8,
   "id": "71bdf8af-b286-438a-a75e-af45f872f36a",
   "metadata": {},
   "outputs": [
    {
     "name": "stdout",
     "output_type": "stream",
     "text": [
      "38.38\n"
     ]
    }
   ],
   "source": [
    "counts = data['Survived'].value_counts()\n",
    "print(round(counts[1] / len(data) * 100, 2))"
   ]
  },
  {
   "cell_type": "markdown",
   "id": "a5203d1f-c5cd-472e-9430-1e3f45b9b9a6",
   "metadata": {},
   "source": [
    "3. Какую долю пассажиры первого класса составляли среди всех пас-\n",
    "сажиров? Ответ приведите в процентах (число в интервале от 0 до\n",
    "100, знак процента не нужен), округлив до двух знаков."
   ]
  },
  {
   "cell_type": "code",
   "execution_count": 12,
   "id": "cc1e0bfe-77ed-4d6e-b915-e27619f03f4a",
   "metadata": {},
   "outputs": [
    {
     "name": "stdout",
     "output_type": "stream",
     "text": [
      "24.24\n"
     ]
    }
   ],
   "source": [
    "counts = data['Pclass'].value_counts()\n",
    "print(round(counts[1] / len(data) * 100, 2))"
   ]
  },
  {
   "cell_type": "markdown",
   "id": "188a59b1-9d84-406f-84b9-e97975d3753b",
   "metadata": {},
   "source": [
    "4. Какого возраста были пассажиры? Посчитайте среднее и медиа-\n",
    "ну возраста пассажиров. Посчитайте среднее и медиану возраста\n",
    "пассажиров. В качестве ответа приведите два числа через пробел."
   ]
  },
  {
   "cell_type": "code",
   "execution_count": 15,
   "id": "d3c0a760-641d-4320-8071-de87d369ff6d",
   "metadata": {},
   "outputs": [
    {
     "name": "stdout",
     "output_type": "stream",
     "text": [
      "29.7 28.0\n"
     ]
    }
   ],
   "source": [
    "mean = round(data['Age'].mean(), 2)\n",
    "mediana = round(data['Age'].median(), 2)\n",
    "print(f'{mean} {mediana}')"
   ]
  },
  {
   "cell_type": "markdown",
   "id": "83938634-0d4b-4e45-b438-02406f937e02",
   "metadata": {},
   "source": [
    "5. Коррелируют ли число братьев/сестер с числом родителей/детей?\n",
    "Посчитайте корреляцию Пирсона между признаками SibSp и Parch."
   ]
  },
  {
   "cell_type": "code",
   "execution_count": 17,
   "id": "6d5e4b4f-5cf1-44ce-b84e-2d2919729468",
   "metadata": {},
   "outputs": [
    {
     "name": "stdout",
     "output_type": "stream",
     "text": [
      "0.41483769862015557\n"
     ]
    }
   ],
   "source": [
    "r = data['SibSp'].corr(data['Parch'])\n",
    "print(r)"
   ]
  },
  {
   "cell_type": "markdown",
   "id": "3b8d0fb4-ef90-4567-855a-7823888dbbc9",
   "metadata": {},
   "source": [
    "Коэффициент корреляции = 0.4, соответсвенно, корреляции нет "
   ]
  },
  {
   "cell_type": "markdown",
   "id": "eccf48ce-d8b1-42b8-a689-6d160ac91546",
   "metadata": {},
   "source": [
    "6. Какое самое популярное женское имя на корабле? Извлеките из\n",
    "полного имени пассажира (колонка Name) его личное имя (First\n",
    "Name). Это задание — типичный пример того, с чем сталкивает-\n",
    "ся специалист по анализу данных. Данные очень разнородные и\n",
    "шумные, но из них требуется извлечь необходимую информацию.\n",
    "Попробуйте вручную разобрать несколько значений столбца Name\n",
    "и выработать правило для извлечения имен, а также разделения\n",
    "их на женские и мужские."
   ]
  },
  {
   "cell_type": "code",
   "execution_count": 18,
   "id": "a11d4ee9-e1db-4296-b499-10627e77de9b",
   "metadata": {},
   "outputs": [
    {
     "name": "stdout",
     "output_type": "stream",
     "text": [
      "PassengerId\n",
      "1                              Braund, Mr. Owen Harris\n",
      "2    Cumings, Mrs. John Bradley (Florence Briggs Th...\n",
      "3                               Heikkinen, Miss. Laina\n",
      "4         Futrelle, Mrs. Jacques Heath (Lily May Peel)\n",
      "5                             Allen, Mr. William Henry\n",
      "Name: Name, dtype: object\n"
     ]
    }
   ],
   "source": [
    "print(data['Name'].head())"
   ]
  },
  {
   "cell_type": "code",
   "execution_count": 33,
   "id": "6a09ffeb-4f13-4b12-ada8-61baa3d99064",
   "metadata": {},
   "outputs": [
    {
     "name": "stdout",
     "output_type": "stream",
     "text": [
      "Mary\n"
     ]
    }
   ],
   "source": [
    "from collections import Counter\n",
    "\n",
    "names = []\n",
    "females = data[data['Sex'] == 'female']\n",
    "for x in females['Name']:\n",
    "    if '(' in x and ')' in x:\n",
    "        start = x.find('(') + 1\n",
    "        end = x.find(')')\n",
    "        all_names = x[start:end].split()\n",
    "        for i in all_names:\n",
    "            names.append(i)\n",
    "    else:\n",
    "        names.append(x[(x.find('.') + 2):])\n",
    "count = Counter(names)\n",
    "print(count.most_common(1)[0][0])"
   ]
  },
  {
   "cell_type": "markdown",
   "id": "368cfdda-701c-4ad6-b3f7-4a1c7b80ae82",
   "metadata": {},
   "source": [
    "Самое популярное женское имя на корабле - Мэри"
   ]
  }
 ],
 "metadata": {
  "kernelspec": {
   "display_name": "Python [conda env:base] *",
   "language": "python",
   "name": "conda-base-py"
  },
  "language_info": {
   "codemirror_mode": {
    "name": "ipython",
    "version": 3
   },
   "file_extension": ".py",
   "mimetype": "text/x-python",
   "name": "python",
   "nbconvert_exporter": "python",
   "pygments_lexer": "ipython3",
   "version": "3.12.7"
  }
 },
 "nbformat": 4,
 "nbformat_minor": 5
}
