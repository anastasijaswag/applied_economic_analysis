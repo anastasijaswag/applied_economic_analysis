{
 "cells": [
  {
   "cell_type": "markdown",
   "id": "692134a9-39cf-471c-b9de-dcc81b785d15",
   "metadata": {},
   "source": [
    "1. Загрузите выборку Wine по адресу https://archive.ics.uci.edu/ml/machine-learning-databases/wine/wine.data\n",
    "2. Извлеките из данных признаки и классы. Класс записан в первом\n",
    "столбце (три варианта), признаки — в столбцах со второго по по-\n",
    "следний. Более подробно о сути признаков можно прочитать по ад-\n",
    "ресу https://archive.ics.uci.edu/ml/datasets/Wine (см. также файл\n",
    "wine.names, приложенный к заданию)"
   ]
  },
  {
   "cell_type": "code",
   "execution_count": 23,
   "id": "daa75872-28f7-46d4-9b69-f57b6aa6477b",
   "metadata": {},
   "outputs": [
    {
     "name": "stdout",
     "output_type": "stream",
     "text": [
      "     class  Alchohol  Malic acid   Ash  Alcalinity of ash  Magnesium  \\\n",
      "0        1     14.23        1.71  2.43               15.6        127   \n",
      "1        1     13.20        1.78  2.14               11.2        100   \n",
      "2        1     13.16        2.36  2.67               18.6        101   \n",
      "3        1     14.37        1.95  2.50               16.8        113   \n",
      "4        1     13.24        2.59  2.87               21.0        118   \n",
      "..     ...       ...         ...   ...                ...        ...   \n",
      "173      3     13.71        5.65  2.45               20.5         95   \n",
      "174      3     13.40        3.91  2.48               23.0        102   \n",
      "175      3     13.27        4.28  2.26               20.0        120   \n",
      "176      3     13.17        2.59  2.37               20.0        120   \n",
      "177      3     14.13        4.10  2.74               24.5         96   \n",
      "\n",
      "     Total phenols  Flavanoids  Nonflavanoid phenols  Proanthocyanins  \\\n",
      "0             2.80        3.06                  0.28             2.29   \n",
      "1             2.65        2.76                  0.26             1.28   \n",
      "2             2.80        3.24                  0.30             2.81   \n",
      "3             3.85        3.49                  0.24             2.18   \n",
      "4             2.80        2.69                  0.39             1.82   \n",
      "..             ...         ...                   ...              ...   \n",
      "173           1.68        0.61                  0.52             1.06   \n",
      "174           1.80        0.75                  0.43             1.41   \n",
      "175           1.59        0.69                  0.43             1.35   \n",
      "176           1.65        0.68                  0.53             1.46   \n",
      "177           2.05        0.76                  0.56             1.35   \n",
      "\n",
      "     Color intensity   Hue  OD280/OD315 of diluted wines  Proline  \n",
      "0               5.64  1.04                          3.92     1065  \n",
      "1               4.38  1.05                          3.40     1050  \n",
      "2               5.68  1.03                          3.17     1185  \n",
      "3               7.80  0.86                          3.45     1480  \n",
      "4               4.32  1.04                          2.93      735  \n",
      "..               ...   ...                           ...      ...  \n",
      "173             7.70  0.64                          1.74      740  \n",
      "174             7.30  0.70                          1.56      750  \n",
      "175            10.20  0.59                          1.56      835  \n",
      "176             9.30  0.60                          1.62      840  \n",
      "177             9.20  0.61                          1.60      560  \n",
      "\n",
      "[178 rows x 14 columns]\n"
     ]
    }
   ],
   "source": [
    "import pandas as pd\n",
    "import numpy as np\n",
    "from sklearn.model_selection import KFold\n",
    "from sklearn.neighbors import KNeighborsClassifier\n",
    "from sklearn.model_selection import cross_val_score\n",
    "from sklearn.preprocessing import scale\n",
    "\n",
    "data = pandas.read_csv('wine.data', names=['class', 'Alchohol', 'Malic acid', 'Ash', 'Alcalinity of ash', 'Magnesium', \n",
    "                                          'Total phenols', 'Flavanoids', 'Nonflavanoid phenols', 'Proanthocyanins', 'Color intensity', 'Hue',\n",
    "                                          'OD280/OD315 of diluted wines', 'Proline'])\n",
    "print(data)"
   ]
  },
  {
   "cell_type": "code",
   "execution_count": 16,
   "id": "01a71688-e687-4ea7-9831-4d7b7513d49d",
   "metadata": {},
   "outputs": [],
   "source": [
    "classes = data['class']\n",
    "signs = data.iloc[:, 1:]"
   ]
  },
  {
   "cell_type": "markdown",
   "id": "9f6ad0d0-1ce1-4126-95dc-1ea6bff4084a",
   "metadata": {},
   "source": [
    "3. Оценку качества необходимо провести методом кросс-валидации по\n",
    "5 блокам (5-fold). Создайте генератор разбиений, который переме-\n",
    "шивает выборку перед формированием блоков (shuﬄe=True). Для воспроизводимости результата, создавайте генератор KFold с фик-\n",
    "сированным параметром random_state=42. В качестве меры каче-\n",
    "ства используйте долю верных ответов (accuracy)."
   ]
  },
  {
   "cell_type": "code",
   "execution_count": 17,
   "id": "b5ad9fb2-8dc0-45bd-8eaf-2e0248243776",
   "metadata": {},
   "outputs": [],
   "source": [
    "cv = KFold(n_splits=5, shuffle=True, random_state=42)"
   ]
  },
  {
   "cell_type": "markdown",
   "id": "6186d7b3-3d97-4e53-99a1-0a741aadce72",
   "metadata": {},
   "source": [
    "4. Найдите точность классификации на кросс-валидации для метода\n",
    "k ближайших соседей (sklearn.neighbors.KNeighborsClassifier), при\n",
    "k от 1 до 50. При каком k получилось оптимальное качество? Чему\n",
    "оно равно (число в интервале от 0 до 1)? Данные результаты и\n",
    "будут ответами на вопросы 1 и 2.]"
   ]
  },
  {
   "cell_type": "code",
   "execution_count": 19,
   "id": "d0e12f84-f7bc-4446-968a-56fe3c23bbf9",
   "metadata": {},
   "outputs": [
    {
     "name": "stdout",
     "output_type": "stream",
     "text": [
      "1\n",
      "0.7304761904761905\n"
     ]
    }
   ],
   "source": [
    "best_mean = 0\n",
    "best_k = 0\n",
    "for k in range(1, 51):\n",
    "    model = KNeighborsClassifier(n_neighbors=k)\n",
    "    scores = cross_val_score(model, signs, classes, cv = cv, scoring='accuracy')\n",
    "    mean = scores.mean()\n",
    "    if mean > best_mean:\n",
    "        best_mean = mean\n",
    "        best_k = k\n",
    "print(best_k)\n",
    "print(best_mean)"
   ]
  },
  {
   "cell_type": "markdown",
   "id": "1197f9e0-af8e-4ed0-a2e6-e6957340ed7a",
   "metadata": {},
   "source": [
    "5. Произведите масштабирование признаков с помощью функции\n",
    "sklearn.preprocessing.scale. Снова найдите оптимальное k на кросс-\n",
    "валидации."
   ]
  },
  {
   "cell_type": "code",
   "execution_count": 24,
   "id": "03be722f-12c3-4762-bb1f-b69703cfa956",
   "metadata": {},
   "outputs": [
    {
     "name": "stdout",
     "output_type": "stream",
     "text": [
      "     Alchohol  Malic acid       Ash  Alcalinity of ash  Magnesium  \\\n",
      "0    1.518613   -0.562250  0.232053          -1.169593   1.913905   \n",
      "1    0.246290   -0.499413 -0.827996          -2.490847   0.018145   \n",
      "2    0.196879    0.021231  1.109334          -0.268738   0.088358   \n",
      "3    1.691550   -0.346811  0.487926          -0.809251   0.930918   \n",
      "4    0.295700    0.227694  1.840403           0.451946   1.281985   \n",
      "..        ...         ...       ...                ...        ...   \n",
      "173  0.876275    2.974543  0.305159           0.301803  -0.332922   \n",
      "174  0.493343    1.412609  0.414820           1.052516   0.158572   \n",
      "175  0.332758    1.744744 -0.389355           0.151661   1.422412   \n",
      "176  0.209232    0.227694  0.012732           0.151661   1.422412   \n",
      "177  1.395086    1.583165  1.365208           1.502943  -0.262708   \n",
      "\n",
      "     Total phenols  Flavanoids  Nonflavanoid phenols  Proanthocyanins  \\\n",
      "0         0.808997    1.034819             -0.659563         1.224884   \n",
      "1         0.568648    0.733629             -0.820719        -0.544721   \n",
      "2         0.808997    1.215533             -0.498407         2.135968   \n",
      "3         2.491446    1.466525             -0.981875         1.032155   \n",
      "4         0.808997    0.663351              0.226796         0.401404   \n",
      "..             ...         ...                   ...              ...   \n",
      "173      -0.985614   -1.424900              1.274310        -0.930179   \n",
      "174      -0.793334   -1.284344              0.549108        -0.316950   \n",
      "175      -1.129824   -1.344582              0.549108        -0.422075   \n",
      "176      -1.033684   -1.354622              1.354888        -0.229346   \n",
      "177      -0.392751   -1.274305              1.596623        -0.422075   \n",
      "\n",
      "     Color intensity       Hue  OD280/OD315 of diluted wines   Proline  \n",
      "0           0.251717  0.362177                      1.847920  1.013009  \n",
      "1          -0.293321  0.406051                      1.113449  0.965242  \n",
      "2           0.269020  0.318304                      0.788587  1.395148  \n",
      "3           1.186068 -0.427544                      1.184071  2.334574  \n",
      "4          -0.319276  0.362177                      0.449601 -0.037874  \n",
      "..               ...       ...                           ...       ...  \n",
      "173         1.142811 -1.392758                     -1.231206 -0.021952  \n",
      "174         0.969783 -1.129518                     -1.485445  0.009893  \n",
      "175         2.224236 -1.612125                     -1.485445  0.280575  \n",
      "176         1.834923 -1.568252                     -1.400699  0.296498  \n",
      "177         1.791666 -1.524378                     -1.428948 -0.595160  \n",
      "\n",
      "[178 rows x 13 columns]\n"
     ]
    }
   ],
   "source": [
    "signs_scaled = scale(signs)\n",
    "signs_scaled_DF = pd.DataFrame(signs_scaled, columns=signs.columns)\n",
    "print(signs_scaled_DF)"
   ]
  },
  {
   "cell_type": "code",
   "execution_count": 25,
   "id": "2d62b0d2-1edb-4723-b7b1-66f537c7a256",
   "metadata": {},
   "outputs": [
    {
     "name": "stdout",
     "output_type": "stream",
     "text": [
      "29\n",
      "0.9776190476190475\n"
     ]
    }
   ],
   "source": [
    "best_mean = 0\n",
    "best_k = 0\n",
    "for k in range(1, 51):\n",
    "    model = KNeighborsClassifier(n_neighbors=k)\n",
    "    scores = cross_val_score(model, signs_scaled_DF, classes, cv = cv, scoring='accuracy')\n",
    "    mean = scores.mean()\n",
    "    if mean > best_mean:\n",
    "        best_mean = mean\n",
    "        best_k = k\n",
    "print(best_k)\n",
    "print(best_mean)"
   ]
  },
  {
   "cell_type": "markdown",
   "id": "ccb90f4d-3a5c-412a-b327-7fa0943bf1f1",
   "metadata": {},
   "source": [
    "6. Какое значение k получилось оптимальным после приведения при-\n",
    "знаков к одному масштабу? Как изменилось значение качества?\n",
    "Приведите ответы на вопросы 3 и 4."
   ]
  },
  {
   "cell_type": "markdown",
   "id": "54ecc6e6-c322-4907-a778-86670a789bc3",
   "metadata": {},
   "source": [
    "Оптимальное к после масштабирования признаков = 29. Значение качества увеличилось с 0.73 (без масштабирования) до 0.98"
   ]
  },
  {
   "cell_type": "code",
   "execution_count": null,
   "id": "49d89386-919c-4deb-9443-990a6712aa21",
   "metadata": {},
   "outputs": [],
   "source": []
  }
 ],
 "metadata": {
  "kernelspec": {
   "display_name": "Python [conda env:base] *",
   "language": "python",
   "name": "conda-base-py"
  },
  "language_info": {
   "codemirror_mode": {
    "name": "ipython",
    "version": 3
   },
   "file_extension": ".py",
   "mimetype": "text/x-python",
   "name": "python",
   "nbconvert_exporter": "python",
   "pygments_lexer": "ipython3",
   "version": "3.12.7"
  }
 },
 "nbformat": 4,
 "nbformat_minor": 5
}
